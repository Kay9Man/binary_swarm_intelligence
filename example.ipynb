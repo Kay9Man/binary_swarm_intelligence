{
 "cells": [
  {
   "cell_type": "code",
   "execution_count": 1,
   "metadata": {
    "collapsed": true
   },
   "outputs": [],
   "source": [
    "import binary_optimization as opt\n",
    "from sklearn import svm\n",
    "import numpy as np\n",
    "from tqdm import tqdm"
   ]
  },
  {
   "cell_type": "markdown",
   "metadata": {},
   "source": [
    "# dataset(wine)"
   ]
  },
  {
   "cell_type": "code",
   "execution_count": 2,
   "metadata": {
    "collapsed": false
   },
   "outputs": [],
   "source": [
    "with open(\"wine/0.6/wine_train_data_testrate0.6.txt\") as f:\n",
    "    tr_d=np.array([[float(d) for d  in data.split(',')] for data in f.read().splitlines()])\n",
    "with open(\"wine/0.6/wine_test_data_testrate0.6.txt\") as f:\n",
    "    te_d=np.array([[float(d) for d  in data.split(',')] for data in f.read().splitlines()])\n",
    "\n",
    "with open(\"wine/0.6/wine_train_label_testrate0.6.txt\") as f:\n",
    "    tr_l=np.array([int(data) for data in f.read().splitlines()])\n",
    "\n",
    "with open(\"wine/0.6/wine_test_label_testrate0.6.txt\") as f:\n",
    "    te_l=np.array([int(data) for data in f.read().splitlines()])\n"
   ]
  },
  {
   "cell_type": "markdown",
   "metadata": {},
   "source": [
    "## maxmization"
   ]
  },
  {
   "cell_type": "code",
   "execution_count": 3,
   "metadata": {
    "collapsed": false
   },
   "outputs": [
    {
     "name": "stdout",
     "output_type": "stream",
     "text": [
      "Algorithm:\n",
      "\tbest_pos  best_val  number_of_1s\n",
      "BGA:\n",
      "\t1111011111110   0.9532710280373832  11\n",
      "BPSO:\n",
      "\t1011011111110   0.9719626168224299  10\n",
      "BCS:\n",
      "\t1111001111110   0.9626168224299065  10\n",
      "BFFA:\n",
      "\t0100000001010   0.9345794392523364  3\n",
      "BBA:\n",
      "\t1011001111110   0.9719626168224299  9\n",
      "BGSA:\n",
      "\t1111011111010   0.9439252336448598  10\n",
      "BDFA:\n",
      "\t1011011111110   0.9626168224299065  10\n"
     ]
    }
   ],
   "source": [
    "class Evaluate:\n",
    "    def __init__(self):\n",
    "        self.train_l=tr_l\n",
    "        self.train_d=tr_d\n",
    "        self.test_l=te_l\n",
    "        self.test_d=te_d\n",
    "    def evaluate(self,gen):\n",
    "        mask=np.array(gen) > 0\n",
    "        al_data=np.array([al[mask] for al in self.train_d])\n",
    "        al_test_data=np.array([al[mask] for al in self.test_d])\n",
    "        res=svm.LinearSVC().fit(al_data,self.train_l).predict(al_test_data)\n",
    "        return np.count_nonzero(self.test_l==res)/len(self.test_l)\n",
    "    def check_dimentions(self,dim):\n",
    "        if dim==None:\n",
    "            return len(self.train_d[0])\n",
    "        else:\n",
    "            return dim\n",
    "\n",
    "\n",
    "print(\"Algorithm:\\n\\t{0}  {1}  {2}\".format(\"best_pos\",\"best_val\",\"number_of_1s\"))\n",
    "\n",
    "s,g,l=opt.BGA(Eval_Func=Evaluate,n=20,m_i=200)\n",
    "print(\"BGA:\\n\\t{0}   {1}  {2}\".format(\"\".join(map(str,g)),s,l))\n",
    "s,g,l=opt.BPSO(Eval_Func=Evaluate,n=20,m_i=200)\n",
    "print(\"BPSO:\\n\\t{0}   {1}  {2}\".format(\"\".join(map(str,g)),s,l))\n",
    "s,g,l=opt.BCS(Eval_Func=Evaluate,n=20,m_i=200)\n",
    "print(\"BCS:\\n\\t{0}   {1}  {2}\".format(\"\".join(map(str,g)),s,l))\n",
    "s,g,l=opt.BFFA(Eval_Func=Evaluate,n=20,m_i=10)\n",
    "print(\"BFFA:\\n\\t{0}   {1}  {2}\".format(\"\".join(map(str,g)),s,l))\n",
    "s,g,l=opt.BBA(Eval_Func=Evaluate,n=20,m_i=200)\n",
    "print(\"BBA:\\n\\t{0}   {1}  {2}\".format(\"\".join(map(str,g)),s,l))\n",
    "s,g,l=opt.BGSA(Eval_Func=Evaluate,n=20,m_i=200)\n",
    "print(\"BGSA:\\n\\t{0}   {1}  {2}\".format(\"\".join(map(str,g)),s,l))\n",
    "s,g,l=opt.BDFA(Eval_Func=Evaluate,n=20,m_i=200)\n",
    "print(\"BDFA:\\n\\t{0}   {1}  {2}\".format(\"\".join(map(str,g)),s,l))\n"
   ]
  },
  {
   "cell_type": "markdown",
   "metadata": {},
   "source": [
    "## minimization"
   ]
  },
  {
   "cell_type": "code",
   "execution_count": 68,
   "metadata": {
    "collapsed": false
   },
   "outputs": [
    {
     "name": "stdout",
     "output_type": "stream",
     "text": [
      "BGA:\n",
      "\t1111001111110   0.04672897196261683  10\n",
      "BPSO:\n",
      "\t1011011111110   0.028037383177570097  10\n",
      "BCS:\n",
      "\t1011001011110   0.04672897196261683  8\n",
      "BFFA:\n",
      "\t0000001001000   0.10280373831775702  2\n",
      "BBA:\n",
      "\t1111010101110   0.04672897196261683  9\n",
      "BGSA:\n",
      "\t0011001111100   0.05607476635514019  7\n",
      "BDFA:\n",
      "\t1011001001110   0.04672897196261683  7\n"
     ]
    }
   ],
   "source": [
    "class Evaluate:\n",
    "    def __init__(self):\n",
    "        self.train_l=tr_l\n",
    "        self.train_d=tr_d\n",
    "        self.test_l=te_l\n",
    "        self.test_d=te_d\n",
    "    def evaluate(self,gen):\n",
    "        mask=np.array(gen) > 0\n",
    "        al_data=np.array([al[mask] for al in self.train_d])\n",
    "        al_test_data=np.array([al[mask] for al in self.test_d])\n",
    "        res=svm.LinearSVC().fit(al_data,self.train_l).predict(al_test_data)\n",
    "        return 1-(np.count_nonzero(self.test_l==res)/len(self.test_l))\n",
    "    def check_dimentions(self,dim):\n",
    "        if dim==None:\n",
    "            return len(self.train_d[0])\n",
    "        else:\n",
    "            return dim\n",
    "\n",
    "\n",
    "s,g,l=opt.BGA(Eval_Func=Evaluate,n=20,m_i=200,minf=1)\n",
    "print(\"BGA:\\n\\t{0}   {1}  {2}\".format(\"\".join(map(str,g)),s,l))\n",
    "s,g,l=opt.BPSO(Eval_Func=Evaluate,n=20,m_i=200,minf=1)\n",
    "print(\"BPSO:\\n\\t{0}   {1}  {2}\".format(\"\".join(map(str,g)),s,l))\n",
    "s,g,l=opt.BCS(Eval_Func=Evaluate,n=20,m_i=200,minf=1)\n",
    "print(\"BCS:\\n\\t{0}   {1}  {2}\".format(\"\".join(map(str,g)),s,l))\n",
    "s,g,l=opt.BFFA(Eval_Func=Evaluate,n=20,m_i=10,minf=1)\n",
    "print(\"BFFA:\\n\\t{0}   {1}  {2}\".format(\"\".join(map(str,g)),s,l))\n",
    "s,g,l=opt.BBA(Eval_Func=Evaluate,n=20,m_i=200,minf=1)\n",
    "print(\"BBA:\\n\\t{0}   {1}  {2}\".format(\"\".join(map(str,g)),s,l))\n",
    "s,g,l=opt.BGSA(Eval_Func=Evaluate,n=20,m_i=200,minf=1)\n",
    "print(\"BGSA:\\n\\t{0}   {1}  {2}\".format(\"\".join(map(str,g)),s,l))\n",
    "s,g,l=opt.BDFA(Eval_Func=Evaluate,n=20,m_i=200,minf=1)\n",
    "print(\"BDFA:\\n\\t{0}   {1}  {2}\".format(\"\".join(map(str,g)),s,l))"
   ]
  },
  {
   "cell_type": "code",
   "execution_count": null,
   "metadata": {
    "collapsed": true
   },
   "outputs": [],
   "source": []
  },
  {
   "cell_type": "markdown",
   "metadata": {},
   "source": [
    "# dataset(sonar)"
   ]
  },
  {
   "cell_type": "code",
   "execution_count": 69,
   "metadata": {
    "collapsed": false
   },
   "outputs": [],
   "source": [
    "with open(\"sonar/0.6/sonar_train_data_testrate0.6.txt\") as f:\n",
    "    s_tr_d=np.array([[float(d) for d  in data.split(',')] for data in f.read().splitlines()])\n",
    "with open(\"sonar/0.6/sonar_test_data_testrate0.6.txt\") as f:\n",
    "    s_te_d=np.array([[float(d) for d  in data.split(',')] for data in f.read().splitlines()])\n",
    "\n",
    "with open(\"sonar/0.6/sonar_train_label_testrate0.6.txt\") as f:\n",
    "    s_tr_l=np.array([int(data) for data in f.read().splitlines()])\n",
    "\n",
    "with open(\"sonar/0.6/sonar_test_label_testrate0.6.txt\") as f:\n",
    "    s_te_l=np.array([int(data) for data in f.read().splitlines()])\n"
   ]
  },
  {
   "cell_type": "code",
   "execution_count": null,
   "metadata": {
    "collapsed": true
   },
   "outputs": [],
   "source": []
  },
  {
   "cell_type": "markdown",
   "metadata": {},
   "source": [
    "## maxmization"
   ]
  },
  {
   "cell_type": "code",
   "execution_count": 70,
   "metadata": {
    "collapsed": false
   },
   "outputs": [
    {
     "name": "stdout",
     "output_type": "stream",
     "text": [
      "BGA:\n",
      "\t101111111111101001001001110101110011000111010111111001110101   0.848  39\n",
      "BPSO:\n",
      "\t001110010111110010001011110010111101001101110001100111010011   0.888  34\n",
      "BCS:\n",
      "\t101000111011100100101110011110010111011111011110110001100110   0.84  36\n",
      "BFFA:\n",
      "\t011000000001000000100100000000000000111001011000001000000010   0.832  13\n",
      "BBA:\n",
      "\t101010111111011000100101100011111111011100111101110111001000   0.872  37\n",
      "BGSA:\n",
      "\t110111001011000011000111110011110000110000010011000011111001   0.832  30\n",
      "BDFA:\n",
      "\t100110111010111011001110101010110000111001100010110110111000   0.872  33\n"
     ]
    }
   ],
   "source": [
    "class Evaluate:\n",
    "    def __init__(self):\n",
    "        self.train_l=s_tr_l\n",
    "        self.train_d=s_tr_d\n",
    "        self.test_l=s_te_l\n",
    "        self.test_d=s_te_d\n",
    "    def evaluate(self,gen):\n",
    "        mask=np.array(gen) > 0\n",
    "        al_data=np.array([al[mask] for al in self.train_d])\n",
    "        al_test_data=np.array([al[mask] for al in self.test_d])\n",
    "        res=svm.LinearSVC().fit(al_data,self.train_l).predict(al_test_data)\n",
    "        return np.count_nonzero(self.test_l==res)/len(self.test_l)\n",
    "    def check_dimentions(self,dim):\n",
    "        if dim==None:\n",
    "            return len(self.train_d[0])\n",
    "        else:\n",
    "            return dim\n",
    "\n",
    "\n",
    "s,g,l=opt.BGA(Eval_Func=Evaluate,n=20,m_i=200)\n",
    "print(\"BGA:\\n\\t{0}   {1}  {2}\".format(\"\".join(map(str,g)),s,l))\n",
    "s,g,l=opt.BPSO(Eval_Func=Evaluate,n=20,m_i=200)\n",
    "print(\"BPSO:\\n\\t{0}   {1}  {2}\".format(\"\".join(map(str,g)),s,l))\n",
    "s,g,l=opt.BCS(Eval_Func=Evaluate,n=20,m_i=200)\n",
    "print(\"BCS:\\n\\t{0}   {1}  {2}\".format(\"\".join(map(str,g)),s,l))\n",
    "s,g,l=opt.BFFA(Eval_Func=Evaluate,n=20,m_i=10)\n",
    "print(\"BFFA:\\n\\t{0}   {1}  {2}\".format(\"\".join(map(str,g)),s,l))\n",
    "s,g,l=opt.BBA(Eval_Func=Evaluate,n=20,m_i=200)\n",
    "print(\"BBA:\\n\\t{0}   {1}  {2}\".format(\"\".join(map(str,g)),s,l))\n",
    "s,g,l=opt.BGSA(Eval_Func=Evaluate,n=20,m_i=200)\n",
    "print(\"BGSA:\\n\\t{0}   {1}  {2}\".format(\"\".join(map(str,g)),s,l))\n",
    "s,g,l=opt.BDFA(Eval_Func=Evaluate,n=20,m_i=200)\n",
    "print(\"BDFA:\\n\\t{0}   {1}  {2}\".format(\"\".join(map(str,g)),s,l))\n"
   ]
  },
  {
   "cell_type": "markdown",
   "metadata": {},
   "source": [
    "## minimization"
   ]
  },
  {
   "cell_type": "code",
   "execution_count": 72,
   "metadata": {
    "collapsed": false
   },
   "outputs": [
    {
     "name": "stdout",
     "output_type": "stream",
     "text": [
      "BGA:\n",
      "\t111110111111111100001111011001111101011110000010010111010111   0.176000  40\n",
      "BPSO:\n",
      "\t100010011110100110001010000011100011101000100101100111101000   0.144000  27\n",
      "BCS:\n",
      "\t101110001111011010001101101000110111001000101010000111010110   0.152000  31\n",
      "BFFA:\n",
      "\t010100001100000100001110000100000011000001000010101000100000   0.176000  16\n",
      "BBA:\n",
      "\t001100111011010000100010000101100111101101011011110101000100   0.120000  29\n",
      "BGSA:\n",
      "\t010111001011111111000011111000100101111100101011111110101111   0.152000  39\n",
      "BDFA:\n",
      "\t100100101111001000100110000111100111010100101111110110010100   0.112000  31\n"
     ]
    }
   ],
   "source": [
    "class Evaluate:\n",
    "    def __init__(self):\n",
    "        self.train_l=s_tr_l\n",
    "        self.train_d=s_tr_d\n",
    "        self.test_l=s_te_l\n",
    "        self.test_d=s_te_d\n",
    "    def evaluate(self,gen):\n",
    "        mask=np.array(gen) > 0\n",
    "        al_data=np.array([al[mask] for al in self.train_d])\n",
    "        al_test_data=np.array([al[mask] for al in self.test_d])\n",
    "        res=svm.LinearSVC().fit(al_data,self.train_l).predict(al_test_data)\n",
    "        return 1-(np.count_nonzero(self.test_l==res)/len(self.test_l))\n",
    "    def check_dimentions(self,dim):\n",
    "        if dim==None:\n",
    "            return len(self.train_d[0])\n",
    "        else:\n",
    "            return dim\n",
    "\n",
    "\n",
    "s,g,l=opt.BGA(Eval_Func=Evaluate,n=20,m_i=200,minf=1)\n",
    "print(\"BGA:\\n\\t{0}   {1:.6f}  {2}\".format(\"\".join(map(str,g)),s,l))\n",
    "s,g,l=opt.BPSO(Eval_Func=Evaluate,n=20,m_i=200,minf=1)\n",
    "print(\"BPSO:\\n\\t{0}   {1:.6f}  {2}\".format(\"\".join(map(str,g)),s,l))\n",
    "s,g,l=opt.BCS(Eval_Func=Evaluate,n=20,m_i=200,minf=1)\n",
    "print(\"BCS:\\n\\t{0}   {1:.6f}  {2}\".format(\"\".join(map(str,g)),s,l))\n",
    "s,g,l=opt.BFFA(Eval_Func=Evaluate,n=20,m_i=10,minf=1)\n",
    "print(\"BFFA:\\n\\t{0}   {1:.6f}  {2}\".format(\"\".join(map(str,g)),s,l))\n",
    "s,g,l=opt.BBA(Eval_Func=Evaluate,n=20,m_i=200,minf=1)\n",
    "print(\"BBA:\\n\\t{0}   {1:.6f}  {2}\".format(\"\".join(map(str,g)),s,l))\n",
    "s,g,l=opt.BGSA(Eval_Func=Evaluate,n=20,m_i=200,minf=1)\n",
    "print(\"BGSA:\\n\\t{0}   {1:.6f}  {2}\".format(\"\".join(map(str,g)),s,l))\n",
    "s,g,l=opt.BDFA(Eval_Func=Evaluate,n=20,m_i=200,minf=1)\n",
    "print(\"BDFA:\\n\\t{0}   {1:.6f}  {2}\".format(\"\".join(map(str,g)),s,l))"
   ]
  },
  {
   "cell_type": "code",
   "execution_count": 13,
   "metadata": {
    "collapsed": false
   },
   "outputs": [
    {
     "name": "stderr",
     "output_type": "stream",
     "text": [
      "100%|██████████| 500/500 [00:39<00:00, 12.60it/s]"
     ]
    },
    {
     "name": "stdout",
     "output_type": "stream",
     "text": [
      "000110101111110011001011101000110101001101011001100100001101 0.12 31\n"
     ]
    },
    {
     "name": "stderr",
     "output_type": "stream",
     "text": [
      "\n"
     ]
    }
   ],
   "source": [
    "s,g,l=opt.BBA(Eval_Func=Evaluate,n=20,m_i=500,minf=1,prog=True)\n",
    "print(\"\".join(map(str,g)),s,l)"
   ]
  },
  {
   "cell_type": "code",
   "execution_count": null,
   "metadata": {
    "collapsed": true
   },
   "outputs": [],
   "source": []
  },
  {
   "cell_type": "markdown",
   "metadata": {},
   "source": [
    "# Comp<p>\n",
    "I propose penalty function<p>\n",
    "This fitness function was devised from the desire to obtain a small number of features when the evaluation number is the same although the number of features is different.<p>\n",
    "In addition, this function gives penalty as the number of obtained features increases, so it prevents acquiring a large number of features.<p>\n",
    "今回私は新しい評価関数を提案した。<p>\n",
    "この関数は、評価は同じでも特徴数が異なる場合に、少ない特徴数を得たいということから発案された。<p>\n",
    "また、この関数は獲得した特徴数の大きさに比例してペナルティを与えるので、多い特徴数が獲得されるのを抑止することも可能である。<p><br>\n",
    "This time using this<p>\n",
    "1.All features<p>\n",
    "2.Conventional method<p>\n",
    "3.Proposed method<p>\n",
    "Also compare<p>\n",
    "今回はこれを用いて<p>\n",
    "1.全特徴<p>\n",
    "2.従来手法<p>\n",
    "3.提案手法<p>\n",
    "の比較も行う<p>\n",
    "<br>\n",
    "\n",
    "\n",
    "\n",
    "<p>\n",
    "<b>Default</b><p>\n",
    "    $$ S_1=\\frac{A}{Z}$$\n",
    "\n",
    "<p>\n",
    "<b>Propose method</b> \n",
    "    $$ S_2=S_1-α*\\frac{d}{Z}$$\n",
    "    \n",
    "<p>    \n",
    "Variable\n",
    "* A=number of anser label\n",
    "* Z=number of data(label)<p>\n",
    "* α=penalty rate (this time is 0.15)\n",
    "* D=number of selected featuer\n",
    "* N=number of all featuer<p>"
   ]
  },
  {
   "cell_type": "markdown",
   "metadata": {},
   "source": [
    "## 1.using all feature"
   ]
  },
  {
   "cell_type": "code",
   "execution_count": 58,
   "metadata": {
    "collapsed": false
   },
   "outputs": [],
   "source": [
    "def check(gen,tr_d,tr_l,te_d,te_l):\n",
    "    mask=np.array(gen) > 0\n",
    "    al_data=np.array([al[mask] for al in tr_d])\n",
    "    al_test_data=np.array([al[mask] for al in te_d])\n",
    "    res=svm.LinearSVC().fit(al_data,tr_l).predict(al_test_data)\n",
    "    score=np.count_nonzero(te_l==res)/len(te_l)\n",
    "    return score\n"
   ]
  },
  {
   "cell_type": "code",
   "execution_count": 59,
   "metadata": {
    "collapsed": false
   },
   "outputs": [
    {
     "name": "stdout",
     "output_type": "stream",
     "text": [
      "all_feature:\n",
      "\t111111111111111111111111111111111111111111111111111111111111   0.752  60\n"
     ]
    }
   ],
   "source": [
    "gen=[1]*60\n",
    "print(\"all_feature:\\n\\t{0}   {1}  {2}\".format(\"\".join(map(str,gen)),check(gen,s_tr_d,s_tr_l,s_te_d,s_te_l),len(gen)))"
   ]
  },
  {
   "cell_type": "code",
   "execution_count": null,
   "metadata": {
    "collapsed": true
   },
   "outputs": [],
   "source": []
  },
  {
   "cell_type": "markdown",
   "metadata": {},
   "source": [
    "## 2.default binary opt"
   ]
  },
  {
   "cell_type": "code",
   "execution_count": 16,
   "metadata": {
    "collapsed": true
   },
   "outputs": [],
   "source": [
    "class Evaluate:\n",
    "    def __init__(self):\n",
    "        self.train_l=s_tr_l\n",
    "        self.train_d=s_tr_d\n",
    "        self.test_l=s_te_l\n",
    "        self.test_d=s_te_d\n",
    "        self.dim=len(s_tr_d[0])\n",
    "    def evaluate(self,gen):\n",
    "        mask=np.array(gen) > 0\n",
    "        al_data=np.array([al[mask] for al in self.train_d])\n",
    "        al_test_data=np.array([al[mask] for al in self.test_d])\n",
    "        res=svm.LinearSVC().fit(al_data,self.train_l).predict(al_test_data)\n",
    "        score=np.count_nonzero(self.test_l==res)/len(self.test_l)\n",
    "        return score\n",
    "    def check_dimentions(self,dim):\n",
    "        if dim==None:\n",
    "            return len(self.train_d[0])\n",
    "        else:\n",
    "            return dim\n"
   ]
  },
  {
   "cell_type": "code",
   "execution_count": 17,
   "metadata": {
    "collapsed": false,
    "scrolled": true
   },
   "outputs": [
    {
     "name": "stdout",
     "output_type": "stream",
     "text": [
      "Algorithm:\n",
      "\tbest_pos  best_val  number of 1s\n",
      "BGA:\n",
      "\t111110111111110000011011010111110111001111110110011101100011   0.832  41\n",
      "BPSO:\n",
      "\t001110010111011000001000110101100101010101110111101100010110   0.88  31\n",
      "BCS:\n",
      "\t101101111110111000101011100111101101101001111110101101101110   0.84  40\n",
      "BFFA:\n",
      "\t100000001011101000100101000001101101000100011011001100000101   0.848  23\n",
      "BBA:\n",
      "\t000110010111110100010011000101100111011100010111111001111100   0.856  33\n",
      "BGSA:\n",
      "\t010010101110101001001011110010110111111000110100001010011010   0.832  31\n",
      "BDFA:\n",
      "\t000010110011000100100011100010110011000001111001101100110000   0.872  25\n"
     ]
    }
   ],
   "source": [
    "print(\"Algorithm:\\n\\t{0}  {1}  {2}\".format(\"best_pos\",\"best_val\",\"number_of_1s\"))\n",
    "\n",
    "s,g,l=opt.BGA(Eval_Func=Evaluate,n=20,m_i=300)\n",
    "print(\"BGA:\\n\\t{0}   {1}  {2}\".format(\"\".join(map(str,g)),s,l))\n",
    "s,g,l=opt.BPSO(Eval_Func=Evaluate,n=20,m_i=300)\n",
    "print(\"BPSO:\\n\\t{0}   {1}  {2}\".format(\"\".join(map(str,g)),s,l))\n",
    "s,g,l=opt.BCS(Eval_Func=Evaluate,n=20,m_i=300)\n",
    "print(\"BCS:\\n\\t{0}   {1}  {2}\".format(\"\".join(map(str,g)),s,l))\n",
    "\n",
    "s,g,l=opt.BFFA(Eval_Func=Evaluate,n=20,m_i=15)\n",
    "print(\"BFFA:\\n\\t{0}   {1}  {2}\".format(\"\".join(map(str,g)),s,l))\n",
    "\n",
    "s,g,l=opt.BBA(Eval_Func=Evaluate,n=20,m_i=300)\n",
    "print(\"BBA:\\n\\t{0}   {1}  {2}\".format(\"\".join(map(str,g)),s,l))\n",
    "s,g,l=opt.BGSA(Eval_Func=Evaluate,n=20,m_i=300)\n",
    "print(\"BGSA:\\n\\t{0}   {1}  {2}\".format(\"\".join(map(str,g)),s,l))\n",
    "s,g,l=opt.BDFA(Eval_Func=Evaluate,n=20,m_i=300)\n",
    "print(\"BDFA:\\n\\t{0}   {1}  {2}\".format(\"\".join(map(str,g)),s,l))\n"
   ]
  },
  {
   "cell_type": "code",
   "execution_count": null,
   "metadata": {
    "collapsed": true
   },
   "outputs": [],
   "source": []
  },
  {
   "cell_type": "markdown",
   "metadata": {},
   "source": [
    "## 3.propose(using penalty)"
   ]
  },
  {
   "cell_type": "code",
   "execution_count": 73,
   "metadata": {
    "collapsed": true
   },
   "outputs": [],
   "source": [
    "class Evaluate:\n",
    "    def __init__(self):\n",
    "        self.train_l=s_tr_l\n",
    "        self.train_d=s_tr_d\n",
    "        self.test_l=s_te_l\n",
    "        self.test_d=s_te_d\n",
    "        self.dim=len(s_tr_d[0])\n",
    "    def evaluate(self,gen):\n",
    "        mask=np.array(gen) > 0\n",
    "        al_data=np.array([al[mask] for al in self.train_d])\n",
    "        al_test_data=np.array([al[mask] for al in self.test_d])\n",
    "        res=svm.LinearSVC().fit(al_data,self.train_l).predict(al_test_data)\n",
    "        score=np.count_nonzero(self.test_l==res)/len(self.test_l)\n",
    "        return score-comp_penalty(self.dim,gen.count(1),limit=0.15)\n",
    "    def check_dimentions(self,dim):\n",
    "        if dim==None:\n",
    "            return len(self.train_d[0])\n",
    "        else:\n",
    "            return dim\n",
    "\n",
    "def comp_penalty(max_dim,dim,limit=0.15):#ペナルティ関数\n",
    "    return limit/max_dim*dim\n",
    "\n",
    "def org_score(score,leng,org_leng,lim=0.15):#ペナルティ後の元への変換\n",
    "    return score+comp_penalty(org_leng,leng,lim)\n"
   ]
  },
  {
   "cell_type": "code",
   "execution_count": 75,
   "metadata": {
    "collapsed": false
   },
   "outputs": [
    {
     "name": "stdout",
     "output_type": "stream",
     "text": [
      "Algorithm:\n",
      "\tbest_pos  best_val  number_of_1s\n",
      "BGA:\n",
      "\t000011000011001000001111110010000000001000001011010000001000   0.816000  18\n",
      "BPSO:\n",
      "\t000000110011010000100100100100100000100000011001100000100000   0.888000  16\n",
      "BCS:\n",
      "\t100100111101001111100010110001101000111001110010101011000111   0.840000  32\n",
      "BFFA:\n",
      "\t000000000001000000000100000000000000110001001000100000111000   0.832000  10\n",
      "BBA:\n",
      "\t000100011001000000101010010001101001001100010110100100010101   0.872000  22\n",
      "BGSA:\n",
      "\t100010000010100010000001111000100111010000100011100100000111   0.840000  22\n",
      "BDFA:\n",
      "\t001000010110100001000010000010110000110001100001000000000000   0.856000  15\n"
     ]
    }
   ],
   "source": [
    "print(\"Algorithm:\\n\\t{0}  {1}  {2}\".format(\"best_pos\",\"best_val\",\"number_of_1s\"))\n",
    "s,g,l=opt.BGA(Eval_Func=Evaluate,n=20,m_i=500)\n",
    "print(\"BGA:\\n\\t{0}   {1:.6f}  {2}\".format(\"\".join(map(str,g)),org_score(s,l,len(g)),l))\n",
    "s,g,l=opt.BPSO(Eval_Func=Evaluate,n=20,m_i=500)\n",
    "print(\"BPSO:\\n\\t{0}   {1:.6f}  {2}\".format(\"\".join(map(str,g)),org_score(s,l,len(g)),l))\n",
    "s,g,l=opt.BCS(Eval_Func=Evaluate,n=20,m_i=500)\n",
    "\n",
    "print(\"BCS:\\n\\t{0}   {1:.6f}  {2}\".format(\"\".join(map(str,g)),org_score(s,l,len(g)),l))\n",
    "s,g,l=opt.BFFA(Eval_Func=Evaluate,n=20,m_i=25)\n",
    "\n",
    "print(\"BFFA:\\n\\t{0}   {1:.6f}  {2}\".format(\"\".join(map(str,g)),org_score(s,l,len(g)),l))\n",
    "s,g,l=opt.BBA(Eval_Func=Evaluate,n=20,m_i=500)\n",
    "print(\"BBA:\\n\\t{0}   {1:.6f}  {2}\".format(\"\".join(map(str,g)),org_score(s,l,len(g)),l))\n",
    "s,g,l=opt.BGSA(Eval_Func=Evaluate,n=20,m_i=500)\n",
    "print(\"BGSA:\\n\\t{0}   {1:.6f}  {2}\".format(\"\".join(map(str,g)),org_score(s,l,len(g)),l))\n",
    "s,g,l=opt.BDFA(Eval_Func=Evaluate,n=20,m_i=500)\n",
    "print(\"BDFA:\\n\\t{0}   {1:.6f}  {2}\".format(\"\".join(map(str,g)),org_score(s,l,len(g)),l))\n"
   ]
  },
  {
   "cell_type": "code",
   "execution_count": null,
   "metadata": {
    "collapsed": true
   },
   "outputs": [],
   "source": []
  }
 ],
 "metadata": {
  "kernelspec": {
   "display_name": "Python 3",
   "language": "python",
   "name": "python3"
  },
  "language_info": {
   "codemirror_mode": {
    "name": "ipython",
    "version": 3
   },
   "file_extension": ".py",
   "mimetype": "text/x-python",
   "name": "python",
   "nbconvert_exporter": "python",
   "pygments_lexer": "ipython3",
   "version": "3.4.4"
  }
 },
 "nbformat": 4,
 "nbformat_minor": 0
}
